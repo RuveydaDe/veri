#ilk adım

!apt-get install -y -qq software-properties-common python-software-properties module-init-tools
!add-apt-repository -y ppa:alessandro-strada/ppa 2>&1 > /dev/null
!apt-get update -qq 2>&1 > /dev/null
!apt-get -y install -qq google-drive-ocamlfuse fuse
from google.colab import auth
auth.authenticate_user()
from oauth2client.client import GoogleCredentials
creds = GoogleCredentials.get_application_default()
import getpass
!google-drive-ocamlfuse -headless -id={creds.client_id} -secret={creds.client_secret} < /dev/null 2>&1 | grep URL
vcode = getpass.getpass()
!echo {vcode} | google-drive-ocamlfuse -headless -id={creds.client_id} -secret={creds.client_secret}

#colab kimlik dogrulama

from google.colab import drive
drive.mount('/content/drive/')

#kütüphaneler 
import pandas as pd
import numpy as np
import matplotlib as plt

#drive da mıyız kontrol
!ls

!ls drive

import os
os.chdir("/content/drive/My Drive/kalphastaligi")


#dosyanın içindekiler
!ls

#dosyanın icindeki excell dosyasını okuma
data = pd.read_excel('veri.xlsx')

#data degiskenine yazdıgı verileri gösterme islemi
data.head()

#grafik bastirma icin kütüphane ekledim
import seaborn
import seaborn as sns
import timeit



seaborn.lmplot(y='AGE', x='HDL', data=data)

seaborn.lmplot(y='AGE', x='HDL', hue='Person', data=data)
